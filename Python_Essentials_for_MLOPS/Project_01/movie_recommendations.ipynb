{
 "cells": [
  {
   "cell_type": "code",
   "execution_count": 2,
   "metadata": {},
   "outputs": [
    {
     "data": {
      "application/vnd.jupyter.widget-view+json": {
       "model_id": "51f11612e0464447941ce09bf16f792a",
       "version_major": 2,
       "version_minor": 0
      },
      "text/plain": [
       "Text(value='Toy Story', description='Movie Title:')"
      ]
     },
     "metadata": {},
     "output_type": "display_data"
    },
    {
     "data": {
      "application/vnd.jupyter.widget-view+json": {
       "model_id": "7c818b91e4e2401888f7c8bd1b9c8d0f",
       "version_major": 2,
       "version_minor": 0
      },
      "text/plain": [
       "Output()"
      ]
     },
     "metadata": {},
     "output_type": "display_data"
    },
    {
     "data": {
      "application/vnd.jupyter.widget-view+json": {
       "model_id": "ef6dfd06683745b886838dfd9cd98629",
       "version_major": 2,
       "version_minor": 0
      },
      "text/plain": [
       "Text(value='Toy Story', description='Movie Title:')"
      ]
     },
     "metadata": {},
     "output_type": "display_data"
    },
    {
     "data": {
      "application/vnd.jupyter.widget-view+json": {
       "model_id": "07faa25884774819b46501984751b38f",
       "version_major": 2,
       "version_minor": 0
      },
      "text/plain": [
       "Output()"
      ]
     },
     "metadata": {},
     "output_type": "display_data"
    }
   ],
   "source": [
    "\"\"\"get five movie recommendations based on a chosen movie\"\"\"\n",
    "import re\n",
    "import logging\n",
    "import pandas as pd\n",
    "from sklearn.feature_extraction.text import TfidfVectorizer\n",
    "from sklearn.metrics.pairwise import cosine_similarity\n",
    "import numpy as np\n",
    "import ipywidgets as widgets\n",
    "from IPython.display import display\n",
    "\n",
    "DATA_DIR = \"ml-25m/\"\n",
    "MOVIE_ID = 89745\n",
    "\n",
    "logging.basicConfig(level=logging.INFO)\n",
    "\n",
    "\n",
    "def load_files():\n",
    "    \"\"\"loads the dataframes used in the code\"\"\"\n",
    "    df_movies = pd.read_csv(DATA_DIR + \"movies.csv\")\n",
    "    df_ratings = pd.read_csv(DATA_DIR + \"ratings.csv\")\n",
    "    return df_movies, df_ratings\n",
    "\n",
    "\n",
    "def calculate_user_recs(df_all_users: pd.DataFrame) -> float:\n",
    "    \"\"\"Calculates the ratio of movies to unique users.\"\"\"\n",
    "    qtd_movies = df_all_users[\"movieId\"].value_counts()\n",
    "    qtd_users = len(df_all_users[\"userId\"].unique())\n",
    "\n",
    "    try:\n",
    "        result = qtd_movies / qtd_users\n",
    "    except ZeroDivisionError:\n",
    "        result = 0\n",
    "\n",
    "    return result\n",
    "\n",
    "\n",
    "def clean_title(title: str) -> str:\n",
    "    \"\"\" Remove from the title any character\n",
    "        that is not a letter or a number. \"\"\"\n",
    "    title = re.sub(\"[^a-zA-Z0-9 ]\", \"\", title)\n",
    "    return title\n",
    "\n",
    "\n",
    "def search_similar_movies(title: str) -> pd.DataFrame:\n",
    "    \"\"\" returns the 5 most similar films \"\"\"\n",
    "    title = clean_title(title)\n",
    "    query_vec = vectorizer.transform([title])\n",
    "    similarity = cosine_similarity(query_vec, tfidf).flatten()\n",
    "    indices = np.argpartition(similarity, -5)[-5:]\n",
    "    results = movies.iloc[indices].iloc[::-1]\n",
    "    return results\n",
    "\n",
    "\n",
    "def create_widget(function_input_change):\n",
    "    \"\"\"Creates and returns the widget.\"\"\"\n",
    "    widget_input = widgets.Text(\n",
    "        value='Toy Story',\n",
    "        description='Movie Title:',\n",
    "        disabled=False\n",
    "    )\n",
    "    widget_output = widgets.Output()\n",
    "    widget_input.observe(function_input_change, names='value')\n",
    "    return widget_input, widget_output\n",
    "\n",
    "\n",
    "def on_type_movie_input(data):\n",
    "    \"\"\"displays movies with similar names\"\"\"\n",
    "\n",
    "    with movie_list:\n",
    "        movie_list.clear_output()\n",
    "        title = data[\"new\"]\n",
    "        if len(title) > 5:\n",
    "            logging.info(\"starting the search for similar films\")\n",
    "            display(search_similar_movies(title))\n",
    "            logging.info(\"Finished the search for similar films\")\n",
    "\n",
    "\n",
    "def find_recommendations(movie_id: int) -> pd.DataFrame:\n",
    "    \"\"\"search for recommendation movies\"\"\"\n",
    "\n",
    "    similar_users = ratings[(ratings[\"movieId\"] == movie_id) &\n",
    "                            (ratings[\"rating\"] > 4)][\"userId\"].unique()\n",
    "    similar_user_recs = ratings[(ratings[\"userId\"].isin(similar_users)) &\n",
    "                                (ratings[\"rating\"] > 4)][\"movieId\"]\n",
    "\n",
    "    try:\n",
    "        similar_user_recs = similar_user_recs.value_counts() / len(similar_users)\n",
    "    except ZeroDivisionError:\n",
    "        logging.error(\"No similar users found\")\n",
    "\n",
    "    similar_user_recs = similar_user_recs[similar_user_recs > .10]\n",
    "    all_users = ratings[(ratings[\"movieId\"].isin(similar_user_recs.index)) &\n",
    "                        (ratings[\"rating\"] > 4)]\n",
    "    all_user_recs = calculate_user_recs(all_users)\n",
    "\n",
    "    rec_percentages = pd.concat([similar_user_recs, all_user_recs], axis=1)\n",
    "    rec_percentages.columns = [\"similar\", \"all\"]\n",
    "    rec_percentages[\"score\"] = rec_percentages[\"similar\"] / rec_percentages[\"all\"]\n",
    "    rec_percentages = rec_percentages.sort_values(\"score\", ascending=False)\n",
    "\n",
    "    top_recpercentages = rec_percentages.head(10)\n",
    "    similar_movies = top_recpercentages.merge(movies,\n",
    "                                              left_index=True,\n",
    "                                              right_on=\"movieId\")\n",
    "    similar_movies = similar_movies[[\"score\", \"title\", \"genres\"]]\n",
    "    return similar_movies\n",
    "\n",
    "\n",
    "def on_type_recommendation_list(data):\n",
    "    \"\"\"displays movie recommendation\"\"\"\n",
    "\n",
    "    with recommendation_list:\n",
    "        recommendation_list.clear_output()\n",
    "        title = data[\"new\"]\n",
    "        if len(title) > 5:\n",
    "            logging.info(\"starting the search for similar films\")\n",
    "            results = search_similar_movies(title)\n",
    "            movie_id = results.iloc[0][\"movieId\"]\n",
    "            display(find_recommendations(movie_id))\n",
    "            logging.info(\"Finished the search for recommended films\")\n",
    "\n",
    "\n",
    "\n",
    "\n",
    "movies, ratings = load_files()\n",
    "movies[\"clean_title\"] = movies[\"title\"].apply(clean_title)\n",
    "\n",
    "vectorizer = TfidfVectorizer(ngram_range=(1, 2))\n",
    "tfidf = vectorizer.fit_transform(movies[\"clean_title\"])\n",
    "\n",
    "movie_input, movie_list = create_widget(on_type_movie_input)\n",
    "display(movie_input, movie_list)\n",
    "\n",
    "movie_name_input, recommendation_list = create_widget(on_type_recommendation_list)\n",
    "display(movie_name_input, recommendation_list)\n"
   ]
  },
  {
   "cell_type": "code",
   "execution_count": null,
   "metadata": {},
   "outputs": [],
   "source": [
    "display(movie_name_input, recommendation_list)"
   ]
  },
  {
   "cell_type": "code",
   "execution_count": 4,
   "metadata": {},
   "outputs": [],
   "source": [
    "import os"
   ]
  },
  {
   "cell_type": "code",
   "execution_count": null,
   "metadata": {},
   "outputs": [],
   "source": []
  }
 ],
 "metadata": {
  "kernelspec": {
   "display_name": "Python 3",
   "language": "python",
   "name": "python3"
  },
  "language_info": {
   "codemirror_mode": {
    "name": "ipython",
    "version": 3
   },
   "file_extension": ".py",
   "mimetype": "text/x-python",
   "name": "python",
   "nbconvert_exporter": "python",
   "pygments_lexer": "ipython3",
   "version": "3.11.2"
  },
  "orig_nbformat": 4
 },
 "nbformat": 4,
 "nbformat_minor": 2
}
